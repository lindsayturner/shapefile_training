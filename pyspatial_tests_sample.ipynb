{
 "cells": [
  {
   "cell_type": "markdown",
   "metadata": {},
   "source": [
    "## Purpose\n",
    "\n",
    "This script is testing out the pyspatial library as a tool to create a random forest model on raster data and use that model to predict. "
   ]
  },
  {
   "cell_type": "markdown",
   "metadata": {},
   "source": [
    "## Read in raster and calculate spectral indices\n",
    "\n",
    "1. Read in and rename raw raster using pyspatialml Raster function\n",
    "2. Calculate spectral indicies\n",
    "3. Use stack function to create new raster of indices"
   ]
  },
  {
   "cell_type": "code",
   "execution_count": null,
   "metadata": {},
   "outputs": [],
   "source": [
    "from pyspatialml import Raster\n",
    "\n",
    "raw_fp = \"data_raw/\" # file path to raw data folder\n",
    "raster_fp = raw_fp + 'white_small_sub.tif' # combine with tif file\n",
    "stack_raw = Raster(raster_fp)\n",
    "stack_raw.names\n",
    "stack_raw.rename({'white_small_sub_1': 'coastal'})\n",
    "stack_raw.rename({'white_small_sub_2': 'blue'})\n",
    "stack_raw.rename({'white_small_sub_3': 'green'})\n",
    "stack_raw.rename({'white_small_sub_4': 'yellow'})\n",
    "stack_raw.rename({'white_small_sub_5': 'red'})\n",
    "stack_raw.rename({'white_small_sub_6': 'rededge'})\n",
    "stack_raw.rename({'white_small_sub_7': 'NIR1'})\n",
    "stack_raw.rename({'white_small_sub_8': 'NIR2'})"
   ]
  },
  {
   "cell_type": "code",
   "execution_count": null,
   "metadata": {},
   "outputs": [],
   "source": [
    "# Define nre_func\n",
    "def nre_fun(x, y):\n",
    "    nre = (x - y) / (x + y)\n",
    "    return nre\n"
   ]
  },
  {
   "cell_type": "code",
   "execution_count": null,
   "metadata": {},
   "outputs": [],
   "source": [
    "# Warning takes ~10 min to calc all indicies below\n",
    "green_red = nre_fun(stack_raw['green'], stack_raw['red'])\n",
    "blue_coastal = nre_fun(stack_raw['blue'], stack_raw['coastal'])\n",
    "NIR2_yellow = nre_fun(stack_raw['NIR2'], stack_raw['yellow'])\n",
    "NIR1_red = nre_fun(stack_raw['NIR1'], stack_raw['red'])\n",
    "rededge_yellow = nre_fun(stack_raw['rededge'], stack_raw['yellow'])\n",
    "red_NIR2 = nre_fun(stack_raw['red'], stack_raw['NIR2'])\n",
    "rededge_NIR2 = nre_fun(stack_raw['rededge'], stack_raw['NIR2'])\n",
    "rededge_NIR1 = nre_fun(stack_raw['rededge'], stack_raw['NIR1'])\n",
    "green_NIR1 = nre_fun(stack_raw['green'], stack_raw['NIR1'])\n",
    "green_NIR2 = nre_fun(stack_raw['green'], stack_raw['NIR2'])\n",
    "rededge_green = nre_fun(stack_raw['rededge'], stack_raw['green'])\n",
    "rededge_red = nre_fun(stack_raw['rededge'], stack_raw['red'])\n",
    "yellow_NIR1 = nre_fun(stack_raw['yellow'], stack_raw['NIR1'])\n",
    "NIR2_blue = nre_fun(stack_raw['NIR2'], stack_raw['blue'])\n",
    "blue_red = nre_fun(stack_raw['blue'], stack_raw['red'])\n",
    "\n",
    "# Make list of all indicies\n",
    "predictors = [green_red, blue_coastal, NIR2_yellow, NIR1_red,\n",
    "              rededge_yellow, red_NIR2, rededge_NIR2,\n",
    "              rededge_NIR1, green_NIR1, green_NIR2, rededge_green,\n",
    "              rededge_red, yellow_NIR1, NIR2_blue, blue_red]\n",
    "\n",
    "# Stack indicies in new raster\n",
    "stack = Raster(predictors)\n",
    "\n",
    "# Rename each raster in stack\n",
    "feature_names_orig = stack.names\n",
    "\n",
    "feature_names = ['green red', 'blue coastal', 'NIR2 yellow', 'NIR1 red',\n",
    "              'rededge yellow', 'red NIR2', 'rededge NIR2', 'rededge NIR1',\n",
    "              'green NIR1', 'green NIR2', 'rededge green', 'rededge red',\n",
    "              'yellow NIR1', 'NIR2 blue', 'blue red']\n",
    "\n",
    "\n",
    "for n in range(len(feature_names_orig)):\n",
    "    stack.rename({feature_names_orig[n]:feature_names[n]})"
   ]
  },
  {
   "cell_type": "markdown",
   "metadata": {},
   "source": [
    "Save indices - checkpoint to save a few minutes of processing time. Don't need to run this but it saves some time for testing."
   ]
  },
  {
   "cell_type": "code",
   "execution_count": null,
   "metadata": {},
   "outputs": [],
   "source": [
    "\n",
    "#indx_tif = 'indx.tif'\n",
    "#newstack = stack.write(file_path=indx_tif, nodata=-9999)"
   ]
  },
  {
   "cell_type": "markdown",
   "metadata": {},
   "source": [
    "## Stratified random sampling\n",
    "\n",
    "Here is an example using `sample` with a categorical raster overlaid. The `extract_vector` tool was taking a long time so this is a different approach. \n",
    "\n",
    "The strata raster used here was created from the shapefile `Lindsay_white_river_landcover` using the info (extent, cell size, projection) from `white_small_sub.tif`. The strata raster was created in ArcGIS using the `Polygon to Raster` tool. Maybe a programatic way to do it using `fiona`? Untested, but a little Googling says this should be possible.\n",
    "\n",
    "### Import categorical raster\n"
   ]
  },
  {
   "cell_type": "code",
   "execution_count": null,
   "metadata": {},
   "outputs": [],
   "source": [
    "import rasterio\n",
    "\n",
    "strata_dir = 'data_raw\\Lindsay_white_river_land_cover\\white_lc.tif'\n",
    "strata_rast = rasterio.open(strata_dir)"
   ]
  },
  {
   "cell_type": "markdown",
   "metadata": {},
   "source": [
    "### Stack categorical raster with existing raster stack of indices\n",
    "\n",
    "I'm not positive we need this, but this way when we `sample` the raster we have the land cover class info with each point\n",
    "\n",
    "https://pyspatialml.readthedocs.io/en/latest/sampling.html"
   ]
  },
  {
   "cell_type": "code",
   "execution_count": null,
   "metadata": {
    "tags": []
   },
   "outputs": [],
   "source": [
    "# stack = rasterio.open('indx.tif') # use this line if using the checkpoint tif\n",
    "stack_w_cat = stack.append(Raster(strata_rast), in_place = False)\n",
    "\n",
    "stack_w_cat.count # should be 16, 15 indices + 1 categorical layer"
   ]
  },
  {
   "cell_type": "markdown",
   "metadata": {},
   "source": [
    "### Sample the raster\n",
    "\n",
    "Here the input raster is 16 layers, 15 indices and the land cover classes. One test run took 13 min to randomly sample 10000 pts from each category. Seems much faster than `extract_vector`."
   ]
  },
  {
   "cell_type": "code",
   "execution_count": null,
   "metadata": {},
   "outputs": [],
   "source": [
    "with rasterio.open(strata_dir) as strata:\n",
    "    df_strata = stack_w_cat.sample(size=10000, strata=strata, random_state=1)\n",
    "    df_strata = df_strata.dropna() # some points have NA in a couple indices. Why?\n",
    "\n",
    "    # Fix column names\n",
    "    df_strata = df_strata.rename(columns=dict(zip(df_strata.drop('geometry', axis = 1).columns, feature_names + ['class'])))"
   ]
  },
  {
   "cell_type": "markdown",
   "metadata": {},
   "source": [
    "## Random forest model\n",
    "\n",
    "### Partition data into testing and training data"
   ]
  },
  {
   "cell_type": "code",
   "execution_count": null,
   "metadata": {},
   "outputs": [],
   "source": [
    "from sklearn.model_selection import train_test_split\n",
    "\n",
    "labels = df_strata['class']\n",
    "\n",
    "X_train, X_test, y_train, y_test = train_test_split(df_strata[feature_names],\n",
    "                                                    labels, \n",
    "                                                    train_size = 0.9,\n",
    "                                                    random_state = 42,\n",
    "                                                    stratify = labels)"
   ]
  },
  {
   "cell_type": "markdown",
   "metadata": {},
   "source": [
    "### Train model"
   ]
  },
  {
   "cell_type": "code",
   "execution_count": null,
   "metadata": {},
   "outputs": [],
   "source": [
    "# Train model\n",
    "from sklearn.ensemble import RandomForestClassifier\n",
    "\n",
    "rf = RandomForestClassifier(n_estimators = 200,\n",
    "                            max_features = 5,\n",
    "                            random_state = 8)\n",
    "\n",
    "rf.fit(X_train, y_train)"
   ]
  },
  {
   "cell_type": "code",
   "execution_count": null,
   "metadata": {},
   "outputs": [],
   "source": [
    "# save it to checkpoint work\n",
    "import pickle\n",
    "\n",
    "with open('white_river_rf.pkl', 'wb') as f:\n",
    "    pickle.dump(rf, f)  "
   ]
  },
  {
   "cell_type": "markdown",
   "metadata": {},
   "source": [
    "### Check model performance"
   ]
  },
  {
   "cell_type": "code",
   "execution_count": null,
   "metadata": {},
   "outputs": [],
   "source": [
    "from sklearn.metrics import accuracy_score\n",
    "from sklearn.inspection import permutation_importance\n",
    "\n",
    "result = permutation_importance(rf, X_train, y_train, random_state = 8)\n",
    "predictions = rf.predict(X_test)\n",
    "accuracy = accuracy_score(y_test, predictions)\n",
    "\n",
    "accuracy"
   ]
  },
  {
   "cell_type": "code",
   "execution_count": null,
   "metadata": {},
   "outputs": [],
   "source": [
    "from sklearn.metrics import confusion_matrix\n",
    "from sklearn.metrics import plot_confusion_matrix\n",
    "import pandas as pd\n",
    "\n",
    "confmat = confusion_matrix(y_test, predictions)\n",
    "df_confmat = pd.DataFrame(confmat)\n",
    "plot_confusion_matrix(rf, X_test, y_test)"
   ]
  },
  {
   "cell_type": "markdown",
   "metadata": {},
   "source": [
    "## Use RF model to predict raster stack\n",
    "\n",
    "Use `pyspatialml.predict` on raster stack of spectral indices from `white_small_sub.tif` "
   ]
  },
  {
   "cell_type": "code",
   "execution_count": null,
   "metadata": {},
   "outputs": [],
   "source": [
    "# stack = rasterio.open('indx.tif') # use this line if using the checkpoint tif\n",
    "\n",
    "result = stack.predict(estimator=rf, dtype = 'int16', nodata=0)"
   ]
  },
  {
   "cell_type": "code",
   "execution_count": null,
   "metadata": {},
   "outputs": [],
   "source": [
    "# save result\n",
    "result.write(file_path='predictions.tif', nodata=-9999)"
   ]
  },
  {
   "cell_type": "code",
   "execution_count": null,
   "metadata": {},
   "outputs": [],
   "source": [
    "# plot classification result\n",
    "import matplotlib.pyplot as plt\n",
    "\n",
    "result.iloc[0].cmap = \"Paired\"\n",
    "result.iloc[0].categorical = True\n",
    "result.plot()\n",
    "plt.show()"
   ]
  },
  {
   "cell_type": "code",
   "execution_count": null,
   "metadata": {},
   "outputs": [],
   "source": [
    "# set RasterLayer color table\n",
    "from rasterio.plot import show\n",
    "\n",
    "show(result.read(), cmap='Paired')\n"
   ]
  },
  {
   "cell_type": "markdown",
   "metadata": {},
   "source": [
    "## Predict Independent Image"
   ]
  },
  {
   "cell_type": "code",
   "execution_count": null,
   "metadata": {},
   "outputs": [],
   "source": [
    "ind_raw_fp = \"data_raw/\" # file path to raw data folder\n",
    "ind_raster_fp = ind_raw_fp + 'white_small_sub_independent.tif' # combine with tif file\n",
    "ind_stack_raw = Raster(ind_raster_fp)\n",
    "print(ind_stack_raw.names)\n",
    "ind_stack_raw.rename({'white_small_sub_independent_1': 'coastal'})\n",
    "ind_stack_raw.rename({'white_small_sub_independent_2': 'blue'})\n",
    "ind_stack_raw.rename({'white_small_sub_independent_3': 'green'})\n",
    "ind_stack_raw.rename({'white_small_sub_independent_4': 'yellow'})\n",
    "ind_stack_raw.rename({'white_small_sub_independent_5': 'red'})\n",
    "ind_stack_raw.rename({'white_small_sub_independent_6': 'rededge'})\n",
    "ind_stack_raw.rename({'white_small_sub_independent_7': 'NIR1'})\n",
    "ind_stack_raw.rename({'white_small_sub_independent_8': 'NIR2'})\n"
   ]
  },
  {
   "cell_type": "code",
   "execution_count": null,
   "metadata": {},
   "outputs": [],
   "source": [
    "# Warning takes ~10 min to calc all indicies below\n",
    "green_red = nre_fun(ind_stack_raw['green'], ind_stack_raw['red'])\n",
    "blue_coastal = nre_fun(ind_stack_raw['blue'], ind_stack_raw['coastal'])\n",
    "NIR2_yellow = nre_fun(ind_stack_raw['NIR2'], ind_stack_raw['yellow'])\n",
    "NIR1_red = nre_fun(ind_stack_raw['NIR1'], ind_stack_raw['red'])\n",
    "rededge_yellow = nre_fun(ind_stack_raw['rededge'], ind_stack_raw['yellow'])\n",
    "red_NIR2 = nre_fun(ind_stack_raw['red'], ind_stack_raw['NIR2'])\n",
    "rededge_NIR2 = nre_fun(ind_stack_raw['rededge'], ind_stack_raw['NIR2'])\n",
    "rededge_NIR1 = nre_fun(ind_stack_raw['rededge'], ind_stack_raw['NIR1'])\n",
    "green_NIR1 = nre_fun(ind_stack_raw['green'], ind_stack_raw['NIR1'])\n",
    "green_NIR2 = nre_fun(ind_stack_raw['green'], ind_stack_raw['NIR2'])\n",
    "rededge_green = nre_fun(ind_stack_raw['rededge'], ind_stack_raw['green'])\n",
    "rededge_red = nre_fun(ind_stack_raw['rededge'], ind_stack_raw['red'])\n",
    "yellow_NIR1 = nre_fun(ind_stack_raw['yellow'], ind_stack_raw['NIR1'])\n",
    "NIR2_blue = nre_fun(ind_stack_raw['NIR2'], ind_stack_raw['blue'])\n",
    "blue_red = nre_fun(ind_stack_raw['blue'], ind_stack_raw['red'])\n",
    "\n",
    "# Make list of all indicies\n",
    "ind_predictors = [green_red, blue_coastal, NIR2_yellow, NIR1_red,\n",
    "              rededge_yellow, red_NIR2, rededge_NIR2,\n",
    "              rededge_NIR1, green_NIR1, green_NIR2, rededge_green,\n",
    "              rededge_red, yellow_NIR1, NIR2_blue, blue_red]\n",
    "\n",
    "# Stack indicies in new raster\n",
    "ind_stack = Raster(ind_predictors)\n",
    "\n",
    "# Rename each raster in stack\n",
    "feature_names_orig = ind_stack.names\n",
    "\n",
    "feature_names = ['green red', 'blue coastal', 'NIR2 yellow', 'NIR1 red',\n",
    "              'rededge yellow', 'red NIR2', 'rededge NIR2', 'rededge NIR1',\n",
    "              'green NIR1', 'green NIR2', 'rededge green', 'rededge red',\n",
    "              'yellow NIR1', 'NIR2 blue', 'blue red']\n",
    "\n",
    "\n",
    "for n in range(len(feature_names_orig)):\n",
    "    ind_stack.rename({feature_names_orig[n]:feature_names[n]})"
   ]
  },
  {
   "cell_type": "markdown",
   "metadata": {},
   "source": [
    "## Use RF model to predict independent raster stack\n",
    "\n",
    "Use `pyspatialml.predict` on raster stack of spectral indices from `white_small_sub_independent.tif` "
   ]
  },
  {
   "cell_type": "code",
   "execution_count": null,
   "metadata": {},
   "outputs": [],
   "source": [
    "result = ind_stack.predict(estimator=rf, dtype = 'int16', nodata=0)"
   ]
  },
  {
   "cell_type": "code",
   "execution_count": null,
   "metadata": {},
   "outputs": [],
   "source": [
    "result.write(file_path='ind_predictions.tif', nodata=-9999)"
   ]
  },
  {
   "cell_type": "code",
   "execution_count": null,
   "metadata": {},
   "outputs": [],
   "source": [
    "# plot classification result\n",
    "import matplotlib.pyplot as plt\n",
    "\n",
    "result.iloc[0].cmap = \"Paired\"\n",
    "result.iloc[0].categorical = True\n",
    "result.plot()\n",
    "plt.show()"
   ]
  },
  {
   "cell_type": "code",
   "execution_count": null,
   "metadata": {},
   "outputs": [],
   "source": [
    "# set RasterLayer color table\n",
    "from rasterio.plot import show\n",
    "\n",
    "show(result.read(), cmap='Paired')"
   ]
  },
  {
   "cell_type": "code",
   "execution_count": null,
   "metadata": {},
   "outputs": [],
   "source": []
  }
 ],
 "metadata": {
  "kernelspec": {
   "display_name": "Python 3",
   "language": "python",
   "name": "python3"
  },
  "language_info": {
   "codemirror_mode": {
    "name": "ipython",
    "version": 3
   },
   "file_extension": ".py",
   "mimetype": "text/x-python",
   "name": "python",
   "nbconvert_exporter": "python",
   "pygments_lexer": "ipython3",
   "version": "3.7.7"
  }
 },
 "nbformat": 4,
 "nbformat_minor": 4
}
